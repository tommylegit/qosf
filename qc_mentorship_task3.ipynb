{
 "cells": [
  {
   "cell_type": "markdown",
   "id": "3d73dab3",
   "metadata": {},
   "source": [
    "Hey, here is my entry for the qosf task number 3... \n",
    "\n",
    "I picked this task since it was totally different to anything that I had done before. It turend out in the end that the quantum mechanics was actually the simple part, however I am pleased to have finished since I have learned a load about regex! The code should work, assuming the example .qasm file is formatted broadly like the ones that I have provided in the example section. It fully supports any number of custom gates, but does not surrport the SWAP and CSWAP gates since these dont seem native in qasm (could be using out of date documentation?) but the user could define these as custom gates anyway. One thing I would like to extend this code to is for loops and functions, but I thought that I would keep it simple for now. Its probably not the most beautiful solution, but im glad to have something that works. "
   ]
  },
  {
   "cell_type": "code",
   "execution_count": 1,
   "id": "f67574b8",
   "metadata": {},
   "outputs": [],
   "source": [
    "import re\n",
    "from qiskit import *"
   ]
  },
  {
   "cell_type": "code",
   "execution_count": 3,
   "id": "ad2c884c",
   "metadata": {},
   "outputs": [
    {
     "name": "stdout",
     "output_type": "stream",
     "text": [
      "OPENQASM 3.0;\n",
      "include \"qelib1.inc\";\n",
      "qubit q[3];\n",
      "qubit a[2];\n",
      "qubit b[2];\n",
      "bit c[3];\n",
      "bit syn[2];\n",
      "gate syndrome d1,d2,d3,a1,a2\n",
      "{\n",
      "x d1;\n",
      "cx d1,a1; \n",
      "cx d2,a1;\n",
      "cx d2,a2; \n",
      "cx d3,a2;\n",
      "}\n",
      "gate blop o1,o2\n",
      "{\n",
      "cx o1,o2;\n",
      "}\n",
      "gate ping s1,s2,s3\n",
      "{\n",
      "ccx s3,s2,s1;\n",
      "}\n",
      "x q[0]; // error\n",
      "barrier q;\n",
      "syndrome q[0],q[1],q[2],a[0],a[1];\n",
      "x q[1];\n",
      "blop b[1],b[0];\n",
      "ping q[0],q[1],q[2];\n",
      "ping q[0],a[0],b[0];\n",
      "measure a -> syn;\n",
      "if(syn==1) x q[0];\n",
      "if(syn==2) x q[2];\n",
      "if(syn==3) x q[1];\n",
      "measure q -> c;\n"
     ]
    }
   ],
   "source": [
    "# fle_str=\"qasmexample.qasm\"\n",
    "# fle_str=\"qasmexample_2.qasm\"\n",
    "fle_str=\"qasmexample_3.qasm\"\n",
    "\n",
    "#example 3 is coolest...\n",
    "\n",
    "with open (fle_str, \"r\") as myfile:\n",
    "    #read in data\n",
    "    data=myfile.read()\n",
    "#print out for me to read\n",
    "print(data)"
   ]
  },
  {
   "cell_type": "code",
   "execution_count": 4,
   "id": "2abdb99f",
   "metadata": {},
   "outputs": [
    {
     "name": "stdout",
     "output_type": "stream",
     "text": [
      "['OPENQASM 3.0;\\n', 'include \"qelib1.inc\";\\n', 'qubit q[3];\\n', 'qubit a[2];\\n', 'qubit b[2];\\n', 'bit c[3];\\n', 'bit syn[2];\\n', 'gate syndrome d1,d2,d3,a1,a2\\n', '{\\n', 'x d1;\\n', 'cx d1,a1; \\n', 'cx d2,a1;\\n', 'cx d2,a2; \\n', 'cx d3,a2;\\n', '}\\n', 'gate blop o1,o2\\n', '{\\n', 'cx o1,o2;\\n', '}\\n', 'gate ping s1,s2,s3\\n', '{\\n', 'ccx s3,s2,s1;\\n', '}\\n', 'x q[0]; // error\\n', 'barrier q;\\n', 'syndrome q[0],q[1],q[2],a[0],a[1];\\n', 'x q[1];\\n', 'blop b[1],b[0];\\n', 'ping q[0],q[1],q[2];\\n', 'ping q[0],a[0],b[0];\\n', 'measure a -> syn;\\n', 'if(syn==1) x q[0];\\n', 'if(syn==2) x q[2];\\n', 'if(syn==3) x q[1];\\n', 'measure q -> c;']\n"
     ]
    }
   ],
   "source": [
    "#read in data but line by line - use this one, top is for aethstetics\n",
    "with open (fle_str, \"r\") as myfile:\n",
    "    data=myfile.readlines()\n",
    "print(data)"
   ]
  },
  {
   "cell_type": "code",
   "execution_count": 5,
   "id": "b9836480",
   "metadata": {},
   "outputs": [],
   "source": [
    "gates_sheet=(\"x\", \"y\", \"z\", \"rx\", \"ry\", \"rz\", \"h\", \"s\", \"sdg\", \"t\", \"tdg\", \"cx\", \"ccx\", \"SWAP\", \"CSWAP\")\n",
    "gates_qasm=(\"x\", \"y\", \"z\", \"rx\" ,\"ry\" ,\"x\", \"h\", \"s\", \"sdg\", \"t\", \"tdg\", \"cx c,t\" , \"ccx a, b, c\", \"SWAP\", \"CSWAP\")\n",
    "gates_qiskit=(\"x\", \"y\", \"z\", \"rx\", \"ry\", \"rz\", \"h\", \"s\", \"sdg\", \"t\", \"tdg\", \"cx\", \"ccx\", \"SWAP\", \"CSWAP\")"
   ]
  },
  {
   "cell_type": "code",
   "execution_count": 6,
   "id": "b423f75f",
   "metadata": {},
   "outputs": [],
   "source": [
    "gates_dict_qasm_to_IBM={\n",
    "    gates_qasm:gates_qasm,\n",
    "}"
   ]
  },
  {
   "cell_type": "code",
   "execution_count": 7,
   "id": "31f98e38",
   "metadata": {},
   "outputs": [],
   "source": [
    "#regex sorting of the file strings - initial string for quantum, classical registers\n",
    "c_names=[]\n",
    "c_dims=[]\n",
    "c_idx=[]\n",
    "\n",
    "q_names=[]\n",
    "q_dims=[]\n",
    "q_idx=[]\n",
    "\n",
    "custom_gates=[]\n",
    "custom_idx=[]\n",
    "\n",
    "\n",
    "for idx,line in enumerate(data):\n",
    "    m = re.search('bit', line)\n",
    "    if m:\n",
    "        c_idx.append(idx)\n",
    "        c_name = re.search('bit ([^[]*)', line)\n",
    "        c_names.append(c_name.group(1))\n",
    "        \n",
    "        c_dim=re.search('\\[(.*)\\]', line)\n",
    "        c_dims.append(c_dim.group(1))\n",
    "\n",
    "for idx,line in enumerate(data):\n",
    "    m = re.search('qubit ([^;]*)', line)\n",
    "    if m:\n",
    "        q_idx.append(idx)\n",
    "        q_name = re.search('qubit ([^[]*)', line)\n",
    "        q_names.append(q_name.group(1))\n",
    "        \n",
    "        q_dim=re.search('\\[(.*)\\]', line)\n",
    "        q_dims.append(q_dim.group(1))\n",
    "        \n",
    "#finds the last custom gate and new search pattern from there, since it will all just be lines of the form\n",
    "\n",
    "# gate quibits acted on\n",
    "\n",
    "#as per the arxiv on qasm 3.0 ...https://arxiv.org/pdf/1707.03429.pdf\n",
    "\n",
    "#going to assume these are index formatted correctly for now...\n",
    "\n",
    "\n",
    "for idx,line in enumerate(data):\n",
    "    for gate in gates_sheet:       \n",
    "        m = re.search('}', line)\n",
    "        if m:\n",
    "#             print(line, gate)\n",
    "            custom_idx.append(idx)\n",
    "\n",
    "#where does the circuit bit start?\n",
    "\n",
    "if custom_idx:\n",
    "    custom_idx=max(custom_idx)\n",
    "else:\n",
    "    for idx,line in enumerate(data):\n",
    "        for gate in gates_qasm:\n",
    "            m=re.search(f'{gate}')\n",
    "            if m:\n",
    "                custom_idx.append(idx)\n",
    "        \n",
    "    custom_idx=min(custom_idx)\n",
    "\n",
    "for idx,line in enumerate(data):\n",
    "    m = re.search('gate', line)\n",
    "    if m:\n",
    "        n=re.search('gate\\\\W+(\\\\w+)', line)\n",
    "        if (n!=None):\n",
    "            custom_gates.append(n.group(1))\n",
    "            \n",
    "\n",
    "  "
   ]
  },
  {
   "cell_type": "code",
   "execution_count": 8,
   "id": "2dc6e6fe",
   "metadata": {},
   "outputs": [],
   "source": [
    "#custom gate - handling the targets and proper placement. handled seprate to the native gates\n",
    "\n",
    "\n",
    "custom_gates_begin=[]\n",
    "custom_gates_end=[]\n",
    "custom_gates_instructions_list=[]\n",
    "custom_gates_trgts_list=[]\n",
    "\n",
    "for idx,line in enumerate(data):\n",
    "    m = re.search('{', line)\n",
    "    n = re.search('}',line)\n",
    "    if m:\n",
    "        custom_gates_begin.append(idx)\n",
    "    if n:\n",
    "        custom_gates_end.append(idx)\n",
    "\n",
    "# print(len(custom_gates_begin))\n",
    "number_cust_gates=len(custom_gates_begin)\n",
    "\n",
    "for i in range(number_cust_gates):\n",
    "    custom_gates_instructions=[]\n",
    "    custom_gates_trgts=[]\n",
    "    for idx,line in enumerate(data):\n",
    "        if (idx>custom_gates_end[i]-1)or(idx<custom_gates_begin[i]+1):\n",
    "            continue\n",
    "        else:\n",
    "            words=line.split()\n",
    "            if words:\n",
    "                custom_gates_instructions.append(words[0])\n",
    "                custom_gates_trgt=words[1].split(\",\")\n",
    "                custom_gates_trgt=[s.replace(';','') for s in custom_gates_trgt]\n",
    "    #             print(custom_gates_trgt)\n",
    "                custom_gates_trgts.append(custom_gates_trgt)\n",
    "    words=data[custom_gates_begin[i]-1].split()\n",
    "#     print(line)\n",
    "    targs=words[2].split(',')\n",
    "    custom_target_dict={}\n",
    "\n",
    "    j=0\n",
    "    for i in targs:\n",
    "        custom_target_dict[i]=j\n",
    "        j+=1\n",
    "\n",
    "\n",
    "    custom_gates_trgts_2=[]\n",
    "    targs=[custom_target_dict[targ] for targ in targs]\n",
    "    for targ_1 in custom_gates_trgts:\n",
    "\n",
    "        hold=[]\n",
    "        for targ_2 in targ_1:\n",
    "            hold.append(custom_target_dict[targ_2])\n",
    "        custom_gates_trgts_2.append(hold) \n",
    "        \n",
    "    custom_gates_instructions_list.append(custom_gates_instructions)\n",
    "    custom_gates_trgts_list.append(custom_gates_trgts_2)\n"
   ]
  },
  {
   "cell_type": "code",
   "execution_count": 9,
   "id": "0979379a",
   "metadata": {},
   "outputs": [],
   "source": [
    "# seeing as we are trying to do complex conjugate, im going to ignore lines that say measurment or if statements or barrier now...\n",
    "#measurment is non-unitary... well unless youre into many worlds"
   ]
  },
  {
   "cell_type": "code",
   "execution_count": 10,
   "id": "5a7d2dc4",
   "metadata": {},
   "outputs": [],
   "source": [
    "#native gate searches\n",
    "\n",
    "gate_names=[]\n",
    "gate_idx=[]\n",
    "gate_targets=[]\n",
    "\n",
    "\n",
    "for idx,line in enumerate(data):\n",
    "\n",
    "    if (idx>custom_idx):\n",
    "    #get rid of the shit we dont want\n",
    "        m=re.search('barrier', line)\n",
    "        n=re.search('measure', line)\n",
    "        o=re.search('if', line)\n",
    "        #wont work for more than one custy gate, fix this\n",
    "        for gate in custom_gates:\n",
    "            p=re.search(f'{gate}',line)\n",
    "\n",
    "        if (m==None)and(n==None)and(o==None)and(p==None):\n",
    "\n",
    "        #get the sh!t we do want. Also formatting...\n",
    "            words=line.split()\n",
    "            if words:\n",
    "#                 print(words)\n",
    "                gate_names.append(words[0])\n",
    "                gate_idx.append(idx)\n",
    "                targets=words[1].split(\",\")\n",
    "\n",
    "                targets=[s.replace(';', '') for s in targets]\n",
    "                targets=[s.replace('[', '_') for s in targets]\n",
    "                targets=[s.replace(']', '') for s in targets]\n",
    "                gate_targets.append(targets)\n",
    "        if(p):\n",
    "            #get the sh!t we do want\n",
    "            words=line.split()\n",
    "            if words:\n",
    "#                 print(words)\n",
    "                gate_names.append(words[0])\n",
    "                gate_idx.append(idx)\n",
    "                targets=words[1].split(\",\")\n",
    "#                 print(targets)\n",
    "                for qubit_names in q_names:\n",
    "                    targets=[s.replace(';', '') for s in targets]\n",
    "                    targets=[s.replace('[', '_') for s in targets]\n",
    "                    targets=[s.replace(']', '') for s in targets]\n",
    "                \n",
    "                for bit_names in c_names:\n",
    "                    targets=[s.replace(';', '') for s in targets]\n",
    "                    targets=[s.replace('[', '_') for s in targets]\n",
    "                    targets=[s.replace(']', '') for s in targets]\n",
    "#                 print(targets)\n",
    "                gate_targets.append(targets)\n",
    "\n",
    "                    \n"
   ]
  },
  {
   "cell_type": "code",
   "execution_count": 11,
   "id": "11799a0d",
   "metadata": {},
   "outputs": [
    {
     "name": "stdout",
     "output_type": "stream",
     "text": [
      "['q', 'a', 'b', 'c', 'syn']\n",
      "['3', '2', '2', '3', '2']\n",
      "[2, 3, 4, 5, 6]\n",
      "['q', 'a', 'b']\n",
      "['3', '2', '2']\n",
      "[2, 3, 4]\n",
      "['syndrome', 'blop', 'ping']\n",
      "22\n",
      "['x', 'syndrome', 'x', 'blop', 'ping', 'ping']\n",
      "[['q_0'], ['q_0', 'q_1', 'q_2', 'a_0', 'a_1'], ['q_1'], ['b_1', 'b_0'], ['q_0', 'q_1', 'q_2'], ['q_0', 'a_0', 'b_0']]\n",
      "[23, 25, 26, 27, 28, 29]\n",
      "[['x', 'cx', 'cx', 'cx', 'cx'], ['cx'], ['ccx']]\n",
      "[[[0], [0, 3], [1, 3], [1, 4], [2, 4]], [[0, 1]], [[2, 1, 0]]]\n"
     ]
    }
   ],
   "source": [
    "#a couple of reports for the key lists we will use to build our qcirquit\n",
    "\n",
    "\n",
    "print(c_names)\n",
    "print(c_dims)\n",
    "print(c_idx)\n",
    "\n",
    "print(q_names)\n",
    "print(q_dims)\n",
    "print(q_idx)\n",
    "\n",
    "print(custom_gates)\n",
    "print(custom_idx)\n",
    "\n",
    "print(gate_names)\n",
    "print(gate_targets)\n",
    "print(gate_idx)\n",
    "\n",
    "print(custom_gates_instructions_list)\n",
    "print(custom_gates_trgts_list)"
   ]
  },
  {
   "cell_type": "code",
   "execution_count": 28,
   "id": "018aa41d",
   "metadata": {},
   "outputs": [],
   "source": [
    "#build the qubits\n",
    "\n",
    "qreg_list=[]\n",
    "creg_list=[]\n",
    "for (q_name,q_dim,q_id) in zip(q_names,q_dims,q_idx):\n",
    "    qreg_list.append(QuantumRegister(int(q_dim), name=q_name))\n",
    "for (c_name,c_dim,c_id) in zip(c_names,c_dims, c_idx):\n",
    "    creg_list.append(ClassicalRegister(int(c_dim), name=c_name))\n",
    "#     print(creg,qreg)\n",
    "\n",
    "# print(qreg_list)\n",
    "init_qc=QuantumCircuit(qreg_list[0])\n",
    "# print(init_qc)\n",
    "for q in qreg_list:\n",
    "    try:\n",
    "        init_qc.add_register((q))\n",
    "    except:\n",
    "        continue\n",
    "\n"
   ]
  },
  {
   "cell_type": "code",
   "execution_count": 29,
   "id": "767ab504",
   "metadata": {},
   "outputs": [
    {
     "data": {
      "text/html": [
       "<pre style=\"word-wrap: normal;white-space: pre;background: #fff0;line-height: 1.1;font-family: &quot;Courier New&quot;,Courier,monospace\">     \n",
       "q_0: \n",
       "     \n",
       "q_1: \n",
       "     \n",
       "q_2: \n",
       "     \n",
       "a_0: \n",
       "     \n",
       "a_1: \n",
       "     \n",
       "b_0: \n",
       "     \n",
       "b_1: \n",
       "     </pre>"
      ],
      "text/plain": [
       "     \n",
       "q_0: \n",
       "     \n",
       "q_1: \n",
       "     \n",
       "q_2: \n",
       "     \n",
       "a_0: \n",
       "     \n",
       "a_1: \n",
       "     \n",
       "b_0: \n",
       "     \n",
       "b_1: \n",
       "     "
      ]
     },
     "execution_count": 29,
     "metadata": {},
     "output_type": "execute_result"
    }
   ],
   "source": [
    "init_qc.draw()"
   ]
  },
  {
   "cell_type": "code",
   "execution_count": 30,
   "id": "08c44b21",
   "metadata": {},
   "outputs": [],
   "source": [
    "#seems to be some problem with the 'name' functionality, at least... cant make it work\n",
    "# can only do some hacky dict stuff to fix this for now...\n",
    "\n",
    "\n",
    "target_dict={}\n",
    "q_dims_ints=[int(x) for x in q_dims]\n",
    "keys=range(sum(q_dims_ints))\n",
    "values=[]\n",
    "\n",
    "c=0\n",
    "j=0\n",
    "\n",
    "for i in range(sum(q_dims_ints)):\n",
    "    \n",
    "    if (j<q_dims_ints[c]):\n",
    "        val_str=q_names[c]+'_'+str(j)\n",
    "        j+=1\n",
    "        values.append(val_str)\n",
    "        \n",
    "    else:\n",
    "        c+=1\n",
    "        j=0\n",
    "        val_str=q_names[c]+'_'+str(j)\n",
    "        j=1\n",
    "        values.append(val_str)\n",
    "\n",
    "\n",
    "for i in keys:\n",
    "    target_dict[i] = values[i]\n",
    "\n",
    "\n",
    "inv_target_dict = {v: k for k, v in target_dict.items()}\n",
    "\n"
   ]
  },
  {
   "cell_type": "code",
   "execution_count": 31,
   "id": "5216e23b",
   "metadata": {},
   "outputs": [
    {
     "name": "stdout",
     "output_type": "stream",
     "text": [
      "['q_0', 'q_1', 'q_2', 'a_0', 'a_1'] [0] 0\n",
      "['q_0', 'q_1', 'q_2', 'a_0', 'a_1'] [0, 3] 0\n",
      "['q_0', 'q_1', 'q_2', 'a_0', 'a_1'] [1, 3] 0\n",
      "['q_0', 'q_1', 'q_2', 'a_0', 'a_1'] [1, 4] 0\n",
      "['q_0', 'q_1', 'q_2', 'a_0', 'a_1'] [2, 4] 0\n",
      "['b_1', 'b_0'] [0, 1] 6\n",
      "['q_0', 'q_1', 'q_2'] [2, 1, 0] 0\n",
      "['q_0', 'a_0', 'b_0'] [2, 1, 0] 0\n"
     ]
    }
   ],
   "source": [
    "# build the quantum circuit. There is definately a more beuatiful way to do this\n",
    "\n",
    "\n",
    "for gate_name,gate_targ,gate_timestep in zip(gate_names,gate_targets,gate_idx):\n",
    "    if(gate_name.startswith('u')):\n",
    "        m=re.search('(0.\\d+)\\D+(0.\\d+)\\D+(0.\\d+)', gate_name)\n",
    "        if m:\n",
    "            init_qc.u(float(m.group(1)),float(m.group(2)),float(m.group(3)),inv_target_dict[gate_targ[0]])\n",
    "    \n",
    "    if(gate_name=='x'):\n",
    "        init_qc.x(inv_target_dict[gate_targ[0]])\n",
    "    elif (gate_name=='y'):\n",
    "        init_qc.y(inv_target_dict[gate_targ[0]])\n",
    "    elif (gate_name=='z'):\n",
    "        init_qc.z(inv_target_dict[gate_targ[0]])\n",
    "    elif(gate_name=='rx'):\n",
    "        init_qc.rx(np.pi,inv_target_dict[gate_targ[0]])\n",
    "    elif (gate_name=='ry'):\n",
    "        init_qc.ry(np.pi,inv_target_dict[gate_targ[0]])\n",
    "    elif (gate_name=='rz'):\n",
    "        init_qc.rz(np.pi,inv_target_dict[gate_targ[0]])\n",
    "    elif(gate_name=='h'):\n",
    "        init_qc.h(inv_target_dict[gate_targ[0]])\n",
    "    elif (gate_name=='s'):\n",
    "        init_qc.s(inv_target_dict[gate_targ[0]])\n",
    "    elif (gate_name=='sdg'):\n",
    "        init_qc.sdg(inv_target_dict[gate_targ[0]])    \n",
    "    elif (gate_name=='t'):\n",
    "        init_qc.t(inv_target_dict[gate_targ[0]])\n",
    "    elif (gate_name=='tdg'):\n",
    "        init_qc.tdg(inv_target_dict[gate_targ[0]])\n",
    "    elif (gate_name=='cx'):\n",
    "        init_qc.cx(inv_target_dict[gate_targ[0]],inv_target_dict[gate_targ[1]])\n",
    "    elif (gate_name=='ccx'):\n",
    "        init_qc.ccx(inv_target_dict[gate_targ[0]],inv_target_dict[gate_targ[1]],inv_target_dict[gate_targ[2]])\n",
    "    \n",
    "    for i,custom_name in enumerate(custom_gates):\n",
    "        if(gate_name==f'{custom_name}'):\n",
    "            for cust_name,cust_targ, in zip(custom_gates_instructions_list[i],custom_gates_trgts_list[i]):\n",
    "                print(gate_targ,cust_targ,inv_target_dict[gate_targ[0]])\n",
    "                if(cust_name.startswith('u')):\n",
    "                    m=re.search('(0.\\d+)\\D+(0.\\d+)\\D+(0.\\d+)', gate_name)\n",
    "                    if m:\n",
    "                        init_qc.u(float(m.group(1)),float(m.group(2)),float(m.group(3)),inv_target_dict[gate_targ[0]])               \n",
    "                if(cust_name=='x'):\n",
    "                    init_qc.x(inv_target_dict[gate_targ[0]])\n",
    "                elif (cust_name=='y'):\n",
    "                    init_qc.y(inv_target_dict[gate_targ[0]])\n",
    "                elif (cust_name=='z'):\n",
    "                    init_qc.z(inv_target_dict[gate_targ[0]])\n",
    "                elif(cust_name=='rx'):\n",
    "                    init_qc.rx(np.pi,inv_target_dict[gate_targ[0]])\n",
    "                elif (cust_name=='ry'):\n",
    "                    init_qc.ry(np.pi,inv_target_dict[gate_targ[0]])\n",
    "                elif (cust_name=='rz'):\n",
    "                    init_qc.rz(np.pi,inv_target_dict[gate_targ[0]])\n",
    "                elif(cust_name=='h'):\n",
    "                    init_qc.h(inv_target_dict[gate_targ[0]])\n",
    "                elif (cust_name=='s'):\n",
    "                    init_qc.s(inv_target_dict[gate_targ[0]])\n",
    "                elif (cust_name=='sdg'):\n",
    "                    init_qc.sdg(inv_target_dict[gate_targ[0]])    \n",
    "                elif (cust_name=='t'):\n",
    "                    init_qc.t(inv_target_dict[gate_targ[0]])\n",
    "                elif (cust_name=='tdg'):\n",
    "                    init_qc.tdg(inv_target_dict[gate_targ[0]])\n",
    "                elif (cust_name=='cx'):\n",
    "                    init_qc.cx(inv_target_dict[gate_targ[0]],inv_target_dict[gate_targ[1]])\n",
    "                elif (cust_name=='ccx'):\n",
    "                    init_qc.ccx(inv_target_dict[gate_targ[0]],inv_target_dict[gate_targ[1]],inv_target_dict[gate_targ[2]])\n",
    "\n",
    "\n",
    "\n"
   ]
  },
  {
   "cell_type": "code",
   "execution_count": 32,
   "id": "92525068",
   "metadata": {},
   "outputs": [],
   "source": [
    "gates_sheet=(\"x\", \"y\", \"z\", \"rx\", \"ry\", \"rz\", \"h\", \"s\", \"sdg\", \"t\", \"tdg\", \"cx\", \"ccx\", \"SWAP\", \"CSWAP\")"
   ]
  },
  {
   "cell_type": "code",
   "execution_count": 33,
   "id": "71cfbd32",
   "metadata": {},
   "outputs": [
    {
     "data": {
      "text/html": [
       "<pre style=\"word-wrap: normal;white-space: pre;background: #fff0;line-height: 1.1;font-family: &quot;Courier New&quot;,Courier,monospace\">     ┌───┐┌───┐                                   \n",
       "q_0: ┤ X ├┤ X ├──■────■────■────■─────────■────■──\n",
       "     └───┘└───┘┌─┴─┐┌─┴─┐┌─┴─┐┌─┴─┐┌───┐  │    │  \n",
       "q_1: ──────────┤ X ├┤ X ├┤ X ├┤ X ├┤ X ├──■────┼──\n",
       "               └───┘└───┘└───┘└───┘└───┘┌─┴─┐  │  \n",
       "q_2: ───────────────────────────────────┤ X ├──┼──\n",
       "                                        └───┘  │  \n",
       "a_0: ──────────────────────────────────────────■──\n",
       "                                               │  \n",
       "a_1: ──────────────────────────────────────────┼──\n",
       "     ┌───┐                                   ┌─┴─┐\n",
       "b_0: ┤ X ├───────────────────────────────────┤ X ├\n",
       "     └─┬─┘                                   └───┘\n",
       "b_1: ──■──────────────────────────────────────────\n",
       "                                                  </pre>"
      ],
      "text/plain": [
       "     ┌───┐┌───┐                                   \n",
       "q_0: ┤ X ├┤ X ├──■────■────■────■─────────■────■──\n",
       "     └───┘└───┘┌─┴─┐┌─┴─┐┌─┴─┐┌─┴─┐┌───┐  │    │  \n",
       "q_1: ──────────┤ X ├┤ X ├┤ X ├┤ X ├┤ X ├──■────┼──\n",
       "               └───┘└───┘└───┘└───┘└───┘┌─┴─┐  │  \n",
       "q_2: ───────────────────────────────────┤ X ├──┼──\n",
       "                                        └───┘  │  \n",
       "a_0: ──────────────────────────────────────────■──\n",
       "                                               │  \n",
       "a_1: ──────────────────────────────────────────┼──\n",
       "     ┌───┐                                   ┌─┴─┐\n",
       "b_0: ┤ X ├───────────────────────────────────┤ X ├\n",
       "     └─┬─┘                                   └───┘\n",
       "b_1: ──■──────────────────────────────────────────\n",
       "                                                  "
      ]
     },
     "execution_count": 33,
     "metadata": {},
     "output_type": "execute_result"
    }
   ],
   "source": [
    "init_qc.draw()"
   ]
  },
  {
   "cell_type": "code",
   "execution_count": 34,
   "id": "56512f65",
   "metadata": {},
   "outputs": [],
   "source": [
    "# easy way to do the required inverse unitary is to to each gate one by one, from the back, and just \n",
    "# add implement each gates inverse one at a time - untwizzle!"
   ]
  },
  {
   "cell_type": "code",
   "execution_count": 35,
   "id": "1d8e423d",
   "metadata": {},
   "outputs": [],
   "source": [
    "U=init_qc.copy()"
   ]
  },
  {
   "cell_type": "code",
   "execution_count": 36,
   "id": "64380e3d",
   "metadata": {},
   "outputs": [],
   "source": [
    "#build the dagger\n",
    "\n",
    "U_dagger=QuantumCircuit(qreg_list[0])\n",
    "# print(init_qc)\n",
    "for q in qreg_list:\n",
    "    try:\n",
    "        U_dagger.add_register((q))\n",
    "    except:\n",
    "        continue"
   ]
  },
  {
   "cell_type": "code",
   "execution_count": 37,
   "id": "8a2cbb5e",
   "metadata": {},
   "outputs": [],
   "source": [
    "for inst, qargs, cargs in reversed(U._data):\n",
    "    U_dagger._append(inst.inverse(), qargs, cargs)"
   ]
  },
  {
   "cell_type": "code",
   "execution_count": 38,
   "id": "bcae8218",
   "metadata": {},
   "outputs": [
    {
     "data": {
      "text/html": [
       "<pre style=\"word-wrap: normal;white-space: pre;background: #fff0;line-height: 1.1;font-family: &quot;Courier New&quot;,Courier,monospace\">                                        ┌───┐┌───┐\n",
       "q_0: ──■────■─────────■────■────■────■──┤ X ├┤ X ├\n",
       "       │    │  ┌───┐┌─┴─┐┌─┴─┐┌─┴─┐┌─┴─┐└───┘└───┘\n",
       "q_1: ──┼────■──┤ X ├┤ X ├┤ X ├┤ X ├┤ X ├──────────\n",
       "       │  ┌─┴─┐└───┘└───┘└───┘└───┘└───┘          \n",
       "q_2: ──┼──┤ X ├───────────────────────────────────\n",
       "       │  └───┘                                   \n",
       "a_0: ──■──────────────────────────────────────────\n",
       "       │                                          \n",
       "a_1: ──┼──────────────────────────────────────────\n",
       "     ┌─┴─┐┌───┐                                   \n",
       "b_0: ┤ X ├┤ X ├───────────────────────────────────\n",
       "     └───┘└─┬─┘                                   \n",
       "b_1: ───────■─────────────────────────────────────\n",
       "                                                  </pre>"
      ],
      "text/plain": [
       "                                        ┌───┐┌───┐\n",
       "q_0: ──■────■─────────■────■────■────■──┤ X ├┤ X ├\n",
       "       │    │  ┌───┐┌─┴─┐┌─┴─┐┌─┴─┐┌─┴─┐└───┘└───┘\n",
       "q_1: ──┼────■──┤ X ├┤ X ├┤ X ├┤ X ├┤ X ├──────────\n",
       "       │  ┌─┴─┐└───┘└───┘└───┘└───┘└───┘          \n",
       "q_2: ──┼──┤ X ├───────────────────────────────────\n",
       "       │  └───┘                                   \n",
       "a_0: ──■──────────────────────────────────────────\n",
       "       │                                          \n",
       "a_1: ──┼──────────────────────────────────────────\n",
       "     ┌─┴─┐┌───┐                                   \n",
       "b_0: ┤ X ├┤ X ├───────────────────────────────────\n",
       "     └───┘└─┬─┘                                   \n",
       "b_1: ───────■─────────────────────────────────────\n",
       "                                                  "
      ]
     },
     "execution_count": 38,
     "metadata": {},
     "output_type": "execute_result"
    }
   ],
   "source": [
    "U_dagger.draw()"
   ]
  },
  {
   "cell_type": "code",
   "execution_count": 39,
   "id": "4ec91d4c",
   "metadata": {},
   "outputs": [],
   "source": [
    "I_crossedfingers=U.compose(U_dagger)"
   ]
  },
  {
   "cell_type": "code",
   "execution_count": 40,
   "id": "513fb759",
   "metadata": {},
   "outputs": [
    {
     "data": {
      "text/html": [
       "<pre style=\"word-wrap: normal;white-space: pre;background: #fff0;line-height: 1.1;font-family: &quot;Courier New&quot;,Courier,monospace\">     ┌───┐┌───┐                                                            »\n",
       "q_0: ┤ X ├┤ X ├──■────■────■────■─────────■────■────■────■─────────■────■──»\n",
       "     └───┘└───┘┌─┴─┐┌─┴─┐┌─┴─┐┌─┴─┐┌───┐  │    │    │    │  ┌───┐┌─┴─┐┌─┴─┐»\n",
       "q_1: ──────────┤ X ├┤ X ├┤ X ├┤ X ├┤ X ├──■────┼────┼────■──┤ X ├┤ X ├┤ X ├»\n",
       "               └───┘└───┘└───┘└───┘└───┘┌─┴─┐  │    │  ┌─┴─┐└───┘└───┘└───┘»\n",
       "q_2: ───────────────────────────────────┤ X ├──┼────┼──┤ X ├───────────────»\n",
       "                                        └───┘  │    │  └───┘               »\n",
       "a_0: ──────────────────────────────────────────■────■──────────────────────»\n",
       "                                               │    │                      »\n",
       "a_1: ──────────────────────────────────────────┼────┼──────────────────────»\n",
       "     ┌───┐                                   ┌─┴─┐┌─┴─┐┌───┐               »\n",
       "b_0: ┤ X ├───────────────────────────────────┤ X ├┤ X ├┤ X ├───────────────»\n",
       "     └─┬─┘                                   └───┘└───┘└─┬─┘               »\n",
       "b_1: ──■─────────────────────────────────────────────────■─────────────────»\n",
       "                                                                           »\n",
       "«               ┌───┐┌───┐\n",
       "«q_0: ──■────■──┤ X ├┤ X ├\n",
       "«     ┌─┴─┐┌─┴─┐└───┘└───┘\n",
       "«q_1: ┤ X ├┤ X ├──────────\n",
       "«     └───┘└───┘          \n",
       "«q_2: ────────────────────\n",
       "«                         \n",
       "«a_0: ────────────────────\n",
       "«                         \n",
       "«a_1: ────────────────────\n",
       "«                         \n",
       "«b_0: ────────────────────\n",
       "«                         \n",
       "«b_1: ────────────────────\n",
       "«                         </pre>"
      ],
      "text/plain": [
       "     ┌───┐┌───┐                                                            »\n",
       "q_0: ┤ X ├┤ X ├──■────■────■────■─────────■────■────■────■─────────■────■──»\n",
       "     └───┘└───┘┌─┴─┐┌─┴─┐┌─┴─┐┌─┴─┐┌───┐  │    │    │    │  ┌───┐┌─┴─┐┌─┴─┐»\n",
       "q_1: ──────────┤ X ├┤ X ├┤ X ├┤ X ├┤ X ├──■────┼────┼────■──┤ X ├┤ X ├┤ X ├»\n",
       "               └───┘└───┘└───┘└───┘└───┘┌─┴─┐  │    │  ┌─┴─┐└───┘└───┘└───┘»\n",
       "q_2: ───────────────────────────────────┤ X ├──┼────┼──┤ X ├───────────────»\n",
       "                                        └───┘  │    │  └───┘               »\n",
       "a_0: ──────────────────────────────────────────■────■──────────────────────»\n",
       "                                               │    │                      »\n",
       "a_1: ──────────────────────────────────────────┼────┼──────────────────────»\n",
       "     ┌───┐                                   ┌─┴─┐┌─┴─┐┌───┐               »\n",
       "b_0: ┤ X ├───────────────────────────────────┤ X ├┤ X ├┤ X ├───────────────»\n",
       "     └─┬─┘                                   └───┘└───┘└─┬─┘               »\n",
       "b_1: ──■─────────────────────────────────────────────────■─────────────────»\n",
       "                                                                           »\n",
       "«               ┌───┐┌───┐\n",
       "«q_0: ──■────■──┤ X ├┤ X ├\n",
       "«     ┌─┴─┐┌─┴─┐└───┘└───┘\n",
       "«q_1: ┤ X ├┤ X ├──────────\n",
       "«     └───┘└───┘          \n",
       "«q_2: ────────────────────\n",
       "«                         \n",
       "«a_0: ────────────────────\n",
       "«                         \n",
       "«a_1: ────────────────────\n",
       "«                         \n",
       "«b_0: ────────────────────\n",
       "«                         \n",
       "«b_1: ────────────────────\n",
       "«                         "
      ]
     },
     "execution_count": 40,
     "metadata": {},
     "output_type": "execute_result"
    }
   ],
   "source": [
    "I_crossedfingers.draw()"
   ]
  },
  {
   "cell_type": "code",
   "execution_count": 41,
   "id": "9065ee24",
   "metadata": {
    "scrolled": true
   },
   "outputs": [
    {
     "data": {
      "text/html": [
       "<pre style=\"word-wrap: normal;white-space: pre;background: #fff0;line-height: 1.1;font-family: &quot;Courier New&quot;,Courier,monospace\">     ┌───┐┌───┐                                                            »\n",
       "q_0: ┤ X ├┤ X ├──■────■────■────■─────────■────■────■────■─────────■────■──»\n",
       "     └───┘└───┘┌─┴─┐┌─┴─┐┌─┴─┐┌─┴─┐┌───┐  │    │    │    │  ┌───┐┌─┴─┐┌─┴─┐»\n",
       "q_1: ──────────┤ X ├┤ X ├┤ X ├┤ X ├┤ X ├──■────┼────┼────■──┤ X ├┤ X ├┤ X ├»\n",
       "               └───┘└───┘└───┘└───┘└───┘┌─┴─┐  │    │  ┌─┴─┐└───┘└───┘└───┘»\n",
       "q_2: ───────────────────────────────────┤ X ├──┼────┼──┤ X ├───────────────»\n",
       "                                        └───┘  │    │  └───┘               »\n",
       "a_0: ──────────────────────────────────────────■────■──────────────────────»\n",
       "                                               │    │                      »\n",
       "a_1: ──────────────────────────────────────────┼────┼──────────────────────»\n",
       "     ┌───┐                                   ┌─┴─┐┌─┴─┐┌───┐               »\n",
       "b_0: ┤ X ├───────────────────────────────────┤ X ├┤ X ├┤ X ├───────────────»\n",
       "     └─┬─┘                                   └───┘└───┘└─┬─┘               »\n",
       "b_1: ──■─────────────────────────────────────────────────■─────────────────»\n",
       "                                                                           »\n",
       "«               ┌───┐┌───┐\n",
       "«q_0: ──■────■──┤ X ├┤ X ├\n",
       "«     ┌─┴─┐┌─┴─┐└───┘└───┘\n",
       "«q_1: ┤ X ├┤ X ├──────────\n",
       "«     └───┘└───┘          \n",
       "«q_2: ────────────────────\n",
       "«                         \n",
       "«a_0: ────────────────────\n",
       "«                         \n",
       "«a_1: ────────────────────\n",
       "«                         \n",
       "«b_0: ────────────────────\n",
       "«                         \n",
       "«b_1: ────────────────────\n",
       "«                         </pre>"
      ],
      "text/plain": [
       "     ┌───┐┌───┐                                                            »\n",
       "q_0: ┤ X ├┤ X ├──■────■────■────■─────────■────■────■────■─────────■────■──»\n",
       "     └───┘└───┘┌─┴─┐┌─┴─┐┌─┴─┐┌─┴─┐┌───┐  │    │    │    │  ┌───┐┌─┴─┐┌─┴─┐»\n",
       "q_1: ──────────┤ X ├┤ X ├┤ X ├┤ X ├┤ X ├──■────┼────┼────■──┤ X ├┤ X ├┤ X ├»\n",
       "               └───┘└───┘└───┘└───┘└───┘┌─┴─┐  │    │  ┌─┴─┐└───┘└───┘└───┘»\n",
       "q_2: ───────────────────────────────────┤ X ├──┼────┼──┤ X ├───────────────»\n",
       "                                        └───┘  │    │  └───┘               »\n",
       "a_0: ──────────────────────────────────────────■────■──────────────────────»\n",
       "                                               │    │                      »\n",
       "a_1: ──────────────────────────────────────────┼────┼──────────────────────»\n",
       "     ┌───┐                                   ┌─┴─┐┌─┴─┐┌───┐               »\n",
       "b_0: ┤ X ├───────────────────────────────────┤ X ├┤ X ├┤ X ├───────────────»\n",
       "     └─┬─┘                                   └───┘└───┘└─┬─┘               »\n",
       "b_1: ──■─────────────────────────────────────────────────■─────────────────»\n",
       "                                                                           »\n",
       "«               ┌───┐┌───┐\n",
       "«q_0: ──■────■──┤ X ├┤ X ├\n",
       "«     ┌─┴─┐┌─┴─┐└───┘└───┘\n",
       "«q_1: ┤ X ├┤ X ├──────────\n",
       "«     └───┘└───┘          \n",
       "«q_2: ────────────────────\n",
       "«                         \n",
       "«a_0: ────────────────────\n",
       "«                         \n",
       "«a_1: ────────────────────\n",
       "«                         \n",
       "«b_0: ────────────────────\n",
       "«                         \n",
       "«b_1: ────────────────────\n",
       "«                         "
      ]
     },
     "execution_count": 41,
     "metadata": {},
     "output_type": "execute_result"
    }
   ],
   "source": [
    "I_crossedfingers.draw()"
   ]
  },
  {
   "cell_type": "markdown",
   "id": "eecccf31",
   "metadata": {},
   "source": [
    "Heres the check that it all works, using the sim!"
   ]
  },
  {
   "cell_type": "code",
   "execution_count": 42,
   "id": "ae4cc80d",
   "metadata": {},
   "outputs": [
    {
     "name": "stdout",
     "output_type": "stream",
     "text": [
      "[[1.+0.j 0.+0.j 0.+0.j ... 0.+0.j 0.+0.j 0.+0.j]\n",
      " [0.+0.j 1.+0.j 0.+0.j ... 0.+0.j 0.+0.j 0.+0.j]\n",
      " [0.+0.j 0.+0.j 1.+0.j ... 0.+0.j 0.+0.j 0.+0.j]\n",
      " ...\n",
      " [0.+0.j 0.+0.j 0.+0.j ... 1.+0.j 0.+0.j 0.+0.j]\n",
      " [0.+0.j 0.+0.j 0.+0.j ... 0.+0.j 1.+0.j 0.+0.j]\n",
      " [0.+0.j 0.+0.j 0.+0.j ... 0.+0.j 0.+0.j 1.+0.j]]\n"
     ]
    }
   ],
   "source": [
    "#Changing the simulator \n",
    "backend = Aer.get_backend('unitary_simulator')\n",
    "\n",
    "#The circuit without measurement\n",
    "circ = I_crossedfingers\n",
    "\n",
    "#job execution and getting the result as an object\n",
    "job = execute(circ, backend)\n",
    "result = job.result()\n",
    "\n",
    "#get the unitary matrix from the result object\n",
    "print(result.get_unitary(circ, decimals=3))"
   ]
  },
  {
   "cell_type": "code",
   "execution_count": null,
   "id": "0d4237e1",
   "metadata": {},
   "outputs": [],
   "source": []
  },
  {
   "cell_type": "code",
   "execution_count": null,
   "id": "15ebf507",
   "metadata": {},
   "outputs": [],
   "source": []
  },
  {
   "cell_type": "code",
   "execution_count": null,
   "id": "dc372050",
   "metadata": {},
   "outputs": [],
   "source": []
  }
 ],
 "metadata": {
  "kernelspec": {
   "display_name": "Python 3",
   "language": "python",
   "name": "python3"
  },
  "language_info": {
   "codemirror_mode": {
    "name": "ipython",
    "version": 3
   },
   "file_extension": ".py",
   "mimetype": "text/x-python",
   "name": "python",
   "nbconvert_exporter": "python",
   "pygments_lexer": "ipython3",
   "version": "3.8.8"
  }
 },
 "nbformat": 4,
 "nbformat_minor": 5
}
